{
 "cells": [
  {
   "cell_type": "code",
   "execution_count": 1,
   "metadata": {},
   "outputs": [],
   "source": [
    "from qiskit_algorithms.optimizers import SLSQP\n",
    "from qiskit.circuit.library import TwoLocal\n",
    "from qiskit.primitives import Estimator\n",
    "from qiskit_algorithms import VQE\n",
    "from qiskit.quantum_info import SparsePauliOp\n",
    "from qiskit_algorithms.optimizers import SPSA\n",
    "import numpy as np\n",
    "import matplotlib.pyplot as plt"
   ]
  },
  {
   "cell_type": "code",
   "execution_count": 2,
   "metadata": {},
   "outputs": [
    {
     "data": {
      "image/png": "[encoded data removed]",
      "text/plain": [
       "<Figure size 436.286x117.056 with 1 Axes>"
      ]
     },
     "execution_count": 2,
     "metadata": {},
     "output_type": "execute_result"
    }
   ],
   "source": [
    "num_qubits = 1 \n",
    "ansatz = TwoLocal(num_qubits, 'ry', 'cz')\n",
    "optimizer = SLSQP(maxiter=100)\n",
    "ansatz.decompose().draw(\"mpl\")"
   ]
  },
  {
   "cell_type": "code",
   "execution_count": 3,
   "metadata": {},
   "outputs": [
    {
     "name": "stderr",
     "output_type": "stream",
     "text": [
      "/tmp/ipykernel_100031/2449948782.py:1: DeprecationWarning: The class ``qiskit.primitives.estimator.Estimator`` is deprecated as of qiskit 1.2. It will be removed no earlier than 3 months after the release date. All implementations of the `BaseEstimatorV1` interface have been deprecated in favor of their V2 counterparts. The V2 alternative for the `Estimator` class is `StatevectorEstimator`.\n",
      "  estimator = Estimator()\n"
     ]
    }
   ],
   "source": [
    "estimator = Estimator()\n",
    "vqe = VQE(estimator, ansatz, optimizer)"
   ]
  },
  {
   "cell_type": "code",
   "execution_count": 4,
   "metadata": {},
   "outputs": [
    {
     "data": {
      "text/plain": [
       "'\\nH0 = np.array([[E1, 0],\\n               [0, E2]])\\n\\nHI = np.array([[V11, V12],\\n              [V21, V22]])\\n\\nH2_op = H0 + lmbda * HI'"
      ]
     },
     "execution_count": 4,
     "metadata": {},
     "output_type": "execute_result"
    }
   ],
   "source": [
    "E1 = 0.0\n",
    "E2 = 4.0\n",
    "\n",
    "V11 = 3.0\n",
    "V22 = -3.0\n",
    "V12 = V21 = 0.2\n",
    "lmbda = 1\n",
    "\"\"\"\n",
    "H0 = np.array([[E1, 0],\n",
    "               [0, E2]])\n",
    "\n",
    "HI = np.array([[V11, V12],\n",
    "              [V21, V22]])\n",
    "\n",
    "H2_op = H0 + lmbda * HI\"\"\""
   ]
  },
  {
   "cell_type": "code",
   "execution_count": 5,
   "metadata": {},
   "outputs": [
    {
     "name": "stdout",
     "output_type": "stream",
     "text": [
      "-3.999999729672904\n",
      "-3.943999992027976\n",
      "-3.8879999717868703\n",
      "-3.831999859374686\n",
      "-3.775999709362311\n",
      "-3.7199999996443904\n",
      "-3.663999860537911\n",
      "-3.6079997231927057\n",
      "-3.551999650380896\n",
      "-3.495999954780667\n",
      "-3.4399997399786537\n",
      "-3.3839999793675575\n",
      "-3.327999997733711\n",
      "-3.2719999988571025\n",
      "-3.2159999926665948\n",
      "-3.1599999867143933\n",
      "-3.1039995811252314\n",
      "-3.0479999933105764\n",
      "-2.9919999650933433\n",
      "-2.9359998702109307\n",
      "-2.8799999833154155\n",
      "-2.823999930929009\n",
      "-2.7679999898457868\n",
      "-2.711999993011012\n",
      "-2.655999988819246\n",
      "-2.599999964286687\n",
      "-2.5439999516772556\n",
      "-2.4879997788511594\n",
      "-2.431999749891045\n",
      "-2.3759997106417465\n",
      "-2.319999987586805\n",
      "-2.263999993970093\n",
      "-2.20799979721865\n",
      "-2.1519999917266794\n",
      "-2.0959999676072965\n",
      "-2.039999994246781\n",
      "-1.9839996684282255\n",
      "-1.9279999994356027\n",
      "-1.8719999392838702\n",
      "-1.8159998548057001\n",
      "-1.7599999781296793\n",
      "-1.7039999618468589\n",
      "-1.6479999992848628\n",
      "-1.5919999594821457\n",
      "-1.535999914554929\n",
      "-1.4799999870918858\n",
      "-1.4239999958997127\n",
      "-1.3679996759796034\n",
      "-1.3119999989439843\n",
      "-1.2559999342448358\n",
      "-1.199999870140782\n",
      "-1.1439999754800276\n",
      "-1.0879997889502278\n",
      "-1.0319999973820428\n",
      "-0.9759997452933256\n",
      "-0.9199999775726396\n",
      "-0.8639999985567587\n",
      "-0.8079998326321113\n",
      "-0.7519999940178858\n",
      "-0.6959999811986354\n",
      "-0.6399999896714963\n",
      "-0.5839998151503125\n",
      "-0.5279997067692815\n",
      "-0.47199981069619257\n",
      "-0.4159999991172795\n",
      "-0.3599999953295415\n",
      "-0.3039998633393002\n",
      "-0.24799978722661653\n",
      "-0.19199994434864484\n",
      "-0.13599987800285657\n",
      "-0.07999999508911126\n",
      "-0.02399988766816899\n",
      "0.03200008213226871\n",
      "0.08800032154464771\n",
      "0.14400000799935792\n",
      "0.2000001479173404\n",
      "0.2560000047755384\n",
      "0.31200000113999293\n",
      "0.36800024684883226\n",
      "0.42400000064639976\n",
      "0.4800000155219347\n",
      "0.5360001939906652\n",
      "0.592000057546532\n",
      "0.6480000000874911\n",
      "0.7040000078160975\n",
      "0.7600000064009985\n",
      "0.8160001373219373\n",
      "0.8720000010147159\n",
      "0.9280000063509548\n",
      "0.9840000021001456\n",
      "1.0400000042708943\n",
      "1.096000253234031\n",
      "1.1520000004976323\n",
      "1.2080000001492364\n",
      "1.2640000027362404\n",
      "1.320000000002277\n",
      "1.3760000250675104\n",
      "1.4320000935829182\n",
      "1.4880001040016133\n",
      "1.5440000251328152\n",
      "1.600000022485272\n"
     ]
    },
    {
     "name": "stderr",
     "output_type": "stream",
     "text": [
      "/tmp/ipykernel_100031/2147617309.py:29: UserWarning: No artists with labels found to put in legend.  Note that artists whose label start with an underscore are ignored when legend() is called with no argument.\n",
      "  plt.legend()\n"
     ]
    },
    {
     "data": {
      "image/png": "[encoded data removed]",
      "text/plain": [
       "<Figure size 640x480 with 1 Axes>"
      ]
     },
     "metadata": {},
     "output_type": "display_data"
    }
   ],
   "source": [
    "def problem_c() -> None:\n",
    "    lambdas = np.linspace(0, 1, 101)\n",
    "\n",
    "    lower_eig = []\n",
    "    upper_eig = []\n",
    "\n",
    "    for lmbda in lambdas:\n",
    "\n",
    "\n",
    "                #Defining the coefficients for the Pauli terms. Have to do convert the Hamiltonian to a SparsePauliOp to use VQE.\n",
    "        coefficients = [\n",
    "            (\"II\", (lmbda*V11) + E1), \n",
    "            (\"ZZ\", (lmbda*V22) + E2),\n",
    "            (\"XX\", lmbda*V12),\n",
    "            (\"YY\", lmbda*V21),\n",
    "        ]\n",
    "\n",
    "        # Create the SparsePauliOp\n",
    "        H2_op = SparsePauliOp.from_list(coefficients)\n",
    "\n",
    "        minresult = vqe.compute_minimum_eigenvalue(H2_op)\n",
    "        lower_eig.append(minresult.eigenvalue)\n",
    "        print(minresult.eigenvalue)\n",
    "     \n",
    "\n",
    "    plt.plot(lambdas, lower_eig)\n",
    "    plt.xlabel(r\"$\\lambda$\")\n",
    "    plt.ylabel(\"Eigenenergy\")\n",
    "    plt.legend()\n",
    "    plt.show()\n",
    "\n",
    "problem_c()"
   ]
  }
 ],
 "metadata": {
  "kernelspec": {
   "display_name": "env",
   "language": "python",
   "name": "python3"
  },
  "language_info": {
   "codemirror_mode": {
    "name": "ipython",
    "version": 3
   },
   "file_extension": ".py",
   "mimetype": "text/x-python",
   "name": "python",
   "nbconvert_exporter": "python",
   "pygments_lexer": "ipython3",
   "version": "3.12.3"
  }
 },
 "nbformat": 4,
 "nbformat_minor": 2
}
