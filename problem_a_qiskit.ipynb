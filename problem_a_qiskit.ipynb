{
 "cells": [
  {
   "cell_type": "code",
   "execution_count": 1,
   "metadata": {},
   "outputs": [],
   "source": [
    "import numpy as np\n",
    "import qiskit as qk\n",
    "from qiskit_aer import Aer\n",
    "from scipy.optimize import minimize\n",
    "from qiskit.visualization import plot_histogram"
   ]
  },
  {
   "cell_type": "code",
   "execution_count": 2,
   "metadata": {},
   "outputs": [],
   "source": [
    "# Set up one-qubit basis\n",
    "np.random.seed(974)\n",
    "\n",
    "n_qubits = 1 #Number of qubits\n",
    "n_cbits = 1 #Number of classical bits (the number of qubits you want to measure at the end of the circuit)\n",
    "qreg = qk.QuantumRegister(n_qubits) #Create a quantum register\n",
    "creg = qk.ClassicalRegister(n_cbits) #Create a classical register\n",
    "circuit = qk.QuantumCircuit(qreg,creg) #Create your quantum circuit"
   ]
  },
  {
   "cell_type": "code",
   "execution_count": 3,
   "metadata": {},
   "outputs": [
    {
     "name": "stdout",
     "output_type": "stream",
     "text": [
      "X gate applied to |0>: {'1': 1000}\n",
      "Y gate applied to |0>: {'1': 1000}\n",
      "Z gate applied to |0>: {'0': 1000}\n",
      "X gate applied to |1>: {'0': 1000}\n",
      "Y gate applied to |1>: {'0': 1000}\n",
      "Z gate applied to |1>: {'1': 1000}\n"
     ]
    }
   ],
   "source": [
    "# Apply various Pauli gates to these basis states\n",
    "\n",
    "for state_name, initial_state in zip([\"|0>\", \"|1>\"], [[1, 0], [0, 1]]):\n",
    "    for gate in [\"x\", \"y\", \"z\"]:\n",
    "        circuit.clear()\n",
    "        circuit.initialize(initial_state, 0)\n",
    "\n",
    "        exec(\"circuit.\" + gate + \"(qreg[0])\") #Applies a Pauli  gate to the first qubit in the quantum register\n",
    "        circuit.measure(qreg[0],creg[0])\n",
    "        backend = Aer.get_backend('qasm_simulator') \n",
    "        job = backend.run(circuit,shots=1000) #Run the circuit 1000 times\n",
    "\n",
    "        result = job.result()\n",
    "        counts = result.get_counts()\n",
    "        print(gate.upper() + \" gate applied to \" + state_name + \":\", counts)\n"
   ]
  },
  {
   "cell_type": "code",
   "execution_count": 4,
   "metadata": {},
   "outputs": [
    {
     "name": "stdout",
     "output_type": "stream",
     "text": [
      "Hadamard gate applied to |0>: {'0': 497, '1': 503}\n",
      "Hadamard gate applied to |1>: {'0': 516, '1': 484}\n"
     ]
    }
   ],
   "source": [
    "# Apply Hadamard gate to basis states\n",
    "\n",
    "for state_name, initial_state in zip([\"|0>\", \"|1>\"], [[1, 0], [0, 1]]):\n",
    "    circuit.clear()\n",
    "    circuit.initialize(initial_state, 0)\n",
    "\n",
    "    circuit.h(qreg[0])\n",
    "    circuit.measure(qreg[0],creg[0])\n",
    "    backend = Aer.get_backend('qasm_simulator') \n",
    "    job = backend.run(circuit,shots=1000) #Run the circuit 1000 times\n",
    "\n",
    "    result = job.result()\n",
    "    counts = result.get_counts()\n",
    "    print(\"Hadamard gate applied to \" + state_name + \":\", counts)"
   ]
  },
  {
   "cell_type": "code",
   "execution_count": 5,
   "metadata": {},
   "outputs": [
    {
     "name": "stdout",
     "output_type": "stream",
     "text": [
      "Phase gate applied to |0>: {'0': 1000}\n",
      "Phase gate applied to |1>: {'1': 1000}\n"
     ]
    }
   ],
   "source": [
    "# Apply Phase gate to basis states\n",
    "\n",
    "for state_name, initial_state in zip([\"|0>\", \"|1>\"], [[1, 0], [0, 1]]):\n",
    "    circuit.clear()\n",
    "    circuit.initialize(initial_state, 0)\n",
    "\n",
    "    circuit.p(np.pi, qreg[0])\n",
    "    circuit.measure(qreg[0],creg[0])\n",
    "    backend = Aer.get_backend('qasm_simulator') \n",
    "    job = backend.run(circuit,shots=1000) #Run the circuit 1000 times\n",
    "\n",
    "    result = job.result()\n",
    "    counts = result.get_counts()\n",
    "    print(\"Phase gate applied to \" + state_name + \":\", counts)\n"
   ]
  },
  {
   "cell_type": "code",
   "execution_count": 6,
   "metadata": {},
   "outputs": [],
   "source": [
    "# Set up two-qubit basis and initialize into Bell state\n",
    "\n",
    "n_qubits = 2 #Number of qubits\n",
    "n_cbits = 2 #Number of classical bits (the number of qubits you want to measure at the end of the circuit)\n",
    "qreg = qk.QuantumRegister(n_qubits) #Create a quantum register\n",
    "creg = qk.ClassicalRegister(n_cbits) #Create a classical register\n",
    "circuit = qk.QuantumCircuit(qreg,creg) #Create your quantum circuit"
   ]
  },
  {
   "cell_type": "code",
   "execution_count": 7,
   "metadata": {},
   "outputs": [
    {
     "data": {
      "text/html": [
       "<pre style=\"word-wrap: normal;white-space: pre;background: #fff0;line-height: 1.1;font-family: &quot;Courier New&quot;,Courier,monospace\">      ┌───┐          \n",
       "q2_0: ┤ H ├──■───────\n",
       "      └───┘┌─┴─┐┌───┐\n",
       "q2_1: ─────┤ X ├┤ X ├\n",
       "           └───┘└───┘\n",
       "c1: 2/═══════════════\n",
       "                     </pre>"
      ],
      "text/plain": [
       "      ┌───┐          \n",
       "q2_0: ┤ H ├──■───────\n",
       "      └───┘┌─┴─┐┌───┐\n",
       "q2_1: ─────┤ X ├┤ X ├\n",
       "           └───┘└───┘\n",
       "c1: 2/═══════════════\n",
       "                     "
      ]
     },
     "execution_count": 7,
     "metadata": {},
     "output_type": "execute_result"
    }
   ],
   "source": [
    "# Make Bell state ψ+\n",
    "\n",
    "circuit.h(qreg[0])\n",
    "circuit.cx(qreg[0], qreg[1])\n",
    "circuit.x(qreg[1])\n",
    "circuit.draw()"
   ]
  },
  {
   "cell_type": "code",
   "execution_count": 8,
   "metadata": {},
   "outputs": [
    {
     "data": {
      "text/html": [
       "<pre style=\"word-wrap: normal;white-space: pre;background: #fff0;line-height: 1.1;font-family: &quot;Courier New&quot;,Courier,monospace\">      ┌───┐     ┌───┐          ┌─┐   \n",
       "q2_0: ┤ H ├──■──┤ H ├───────■──┤M├───\n",
       "      └───┘┌─┴─┐├───┤┌───┐┌─┴─┐└╥┘┌─┐\n",
       "q2_1: ─────┤ X ├┤ X ├┤ H ├┤ X ├─╫─┤M├\n",
       "           └───┘└───┘└───┘└───┘ ║ └╥┘\n",
       "c1: 2/══════════════════════════╩══╩═\n",
       "                                0  1 </pre>"
      ],
      "text/plain": [
       "      ┌───┐     ┌───┐          ┌─┐   \n",
       "q2_0: ┤ H ├──■──┤ H ├───────■──┤M├───\n",
       "      └───┘┌─┴─┐├───┤┌───┐┌─┴─┐└╥┘┌─┐\n",
       "q2_1: ─────┤ X ├┤ X ├┤ H ├┤ X ├─╫─┤M├\n",
       "           └───┘└───┘└───┘└───┘ ║ └╥┘\n",
       "c1: 2/══════════════════════════╩══╩═\n",
       "                                0  1 "
      ]
     },
     "execution_count": 8,
     "metadata": {},
     "output_type": "execute_result"
    }
   ],
   "source": [
    "# Apply Hadamard and CNOT gates, as requested in task\n",
    "\n",
    "circuit.h(qreg)\n",
    "circuit.cx(qreg[0], qreg[1])\n",
    "circuit.measure(qreg[0],creg[0])\n",
    "circuit.measure(qreg[1],creg[1])\n",
    "circuit.draw()"
   ]
  },
  {
   "cell_type": "code",
   "execution_count": 9,
   "metadata": {},
   "outputs": [
    {
     "name": "stdout",
     "output_type": "stream",
     "text": [
      "{'01': 486, '00': 514}\n"
     ]
    },
    {
     "data": {
      "image/png": "[encoded data removed]",
      "text/plain": [
       "<Figure size 640x480 with 1 Axes>"
      ]
     },
     "execution_count": 9,
     "metadata": {},
     "output_type": "execute_result"
    }
   ],
   "source": [
    "backend = Aer.get_backend('qasm_simulator') \n",
    "job = backend.run(circuit,shots=1000) #Run the circuit 1000 times\n",
    "\n",
    "result = job.result()\n",
    "counts = result.get_counts()\n",
    "print(counts)\n",
    "\n",
    "plot_histogram(counts)"
   ]
  }
 ],
 "metadata": {
  "kernelspec": {
   "display_name": "env",
   "language": "python",
   "name": "python3"
  },
  "language_info": {
   "codemirror_mode": {
    "name": "ipython",
    "version": 3
   },
   "file_extension": ".py",
   "mimetype": "text/x-python",
   "name": "python",
   "nbconvert_exporter": "python",
   "pygments_lexer": "ipython3",
   "version": "3.12.3"
  }
 },
 "nbformat": 4,
 "nbformat_minor": 2
}
